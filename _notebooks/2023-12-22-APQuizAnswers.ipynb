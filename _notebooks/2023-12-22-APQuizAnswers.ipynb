{
 "cells": [
  {
   "cell_type": "markdown",
   "metadata": {},
   "source": [
    "---\n",
    "layout: post\n",
    "title: Collgeboard MC Reflection #2\n",
    "description: Correct Answers\n",
    "toc: false\n",
    "comments: false\n",
    "categories: [5.A, C4.1]\n",
    "courses: { compsci: {week: 16} }\n",
    "type: tangibles\n",
    "---"
   ]
  },
  {
   "cell_type": "markdown",
   "metadata": {},
   "source": [
    "# Score: 62/67\n",
    "\n",
    "# Missed Qs: 11, 23, 48, 51, 65\n",
    "\n",
    "# Learning Journey:\n",
    "In preparation for the Collegeboard Practice MC, I dedicated my study efforts to the team teaching topics covered throughout this trimester. These topics spanned a range of subjects, including The Internet, Routing, Computing, Beneficial and Harmful Effects, Digital Divide, Computing Bias, Undecided Problems, Crowdsourcing, Legal and Ethical Concerns, and Safe Computing.\n",
    "\n",
    "To thoroughly prepare, I diligently reviewed the team teach lessons provided for each of these topics. I went through the popcorn asks, ensuring a comprehensive understanding, and meticulously read all the relevant information provided. Additionally, I revisited the homework assignments associated with these subjects, double-checking my grasp of the material to ensure I was fully prepared.\n",
    "\n",
    "After investing considerable time in review, I felt confident in my readiness and proceeded to take the MC test. This focused approach to studying allowed me to tackle the examination with a solid foundation in the team teaching topics.\n",
    "\n",
    "# Q11: \n",
    "Original Answer: B, light yellow\n",
    "\n",
    "Correct: A, Ivory\n",
    "\n",
    "Explanation: The binary RGB triplet for light yellow is (11111111, 11111111, 11100000).\n",
    "\n",
    "# Q23: \n",
    "Original Answer: B\n",
    "\n",
    "Correct: D\n",
    "\n",
    "Explanation: This expression would be equivalent to an algorithm that sets available to true whenever weekday is true and miles is at least 20. The algorithm in the flowchart requires both conditions to be true in order to set available to true.\n",
    "\n",
    "# Q48:\n",
    "Original Answer: A, A user connects to a public wireless network. An unauthorized individual intercepts data transmitted on the network, looking for private information that can be used to gain access to the user’s accounts.\n",
    "\n",
    "Correct Answer: C, A user receives an e-mail from a sender offering technical help with the user’s computer. The e-mail prompts the user to start a help session by clicking a provided link and entering the username and password associated with the user’s computer.\n",
    "\n",
    "Explanation: Phishing is a technique that is used to trick a user into providing personal information. In this case, the user is tricked into providing a username and password to an unauthorized individual posing as a technical support specialist.\n",
    "\n",
    "# Q51:\n",
    "Original Answer: C, Create Commons provides lossless transmission of messages, enabling reliable distribution of digital information.\n",
    "\n",
    "Correct Answer: A, Creative Commons gives creators of digital content the ability to indicate how their works can be legally used and distributed, enabling broad access to digital information.\n",
    "\n",
    "Explanation: Creative Commons licensing allows copyright owners to specify the ways in which their works can be used or distributed. This allows individuals to access or modify these works without the risk of violating copyright laws.\n",
    "\n",
    "# Q65\n",
    "Original Answer: B+D\n",
    "\n",
    "Correct Answer: B+C\n",
    "\n",
    "Explanation: C stores the substring \"jack\" in animal. It then concatenates \"jack\" and \"a\", storing the result \"jacka\" in animal. Lastly, it concatenates \"jacka\" and the substring \"lope\", storing the result \"jackalope\" in animal.\n",
    "\n",
    "# Reflection: \n",
    "Looking at what I missed, I see that I need to review strings, licensing rules, and internet safety. I can do this by going back to my old HWs and other CollegeBoard resources to review what we have learned throughout both trimesters.\n",
    "\n",
    "\n",
    "\n"
   ]
  }
 ],
 "metadata": {
  "language_info": {
   "name": "python"
  },
  "orig_nbformat": 4
 },
 "nbformat": 4,
 "nbformat_minor": 2
}
