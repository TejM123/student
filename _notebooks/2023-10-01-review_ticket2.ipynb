{
 "cells": [
  {
   "cell_type": "markdown",
   "metadata": {},
   "source": [
    "## What we learned\n",
    "We learned how to use basic javascript, HTML, js datatypes, and combine js and HTML.\n",
    "\n",
    "## What we created\n",
    "SOmegthings we did with these concepts include turning a string into a list, making HTML tags, pushing and pulling information, and switchingf betwwen different links in HTML.\n"
   ]
  }
 ],
 "metadata": {
  "language_info": {
   "name": "python"
  },
  "orig_nbformat": 4
 },
 "nbformat": 4,
 "nbformat_minor": 2
}
