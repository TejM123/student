{
 "cells": [
  {
   "cell_type": "markdown",
   "metadata": {},
   "source": []
  },
  {
   "cell_type": "markdown",
   "metadata": {},
   "source": [
    "## Popcorn Hack #1\n",
    "\n",
    "\n",
    "SCSS (Sass) offers variables and nesting for improved maintainability with a potential learning curve, while CSS, universally supported by browsers, lacks support for variables and nesting, posing challenges in redundancy and maintenance.\n",
    "\n",
    "## Popcorn Hack #2\n",
    "\n",
    "## Popcorn Hack #3\n",
    "\n",
    "## Popcorn Hack #4\n",
    "\n"
   ]
  }
 ],
 "metadata": {
  "language_info": {
   "name": "python"
  },
  "orig_nbformat": 4
 },
 "nbformat": 4,
 "nbformat_minor": 2
}
