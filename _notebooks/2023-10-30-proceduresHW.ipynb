{
 "cells": [
  {
   "cell_type": "markdown",
   "metadata": {},
   "source": [
    "---\n",
    "layout: post\n",
    "title: Procedures HW\n",
    "description: \n",
    "toc: false\n",
    "comments: true\n",
    "categories: [5.A, C4.1]\n",
    "courses: { compsci: {week: 5} }\n",
    "type: tangibles\n",
    "---"
   ]
  },
  {
   "cell_type": "code",
   "execution_count": null,
   "metadata": {},
   "outputs": [],
   "source": [
    "# Define a list of numbers\n",
    "numbers = [1, 3, 5, 7, 9, 11, 13, 15, 17, 19]\n",
    "\n",
    "# Get the length of the list\n",
    "list_length = len(numbers)\n",
    "\n",
    "# Calculate the sum of the first half of the list\n",
    "sum_first_half = sum(numbers[:list_length // 2])\n",
    "\n",
    "# Print the result\n",
    "print(sum_first_half)"
   ]
  },
  {
   "cell_type": "code",
   "execution_count": null,
   "metadata": {},
   "outputs": [],
   "source": [
    "import math\n",
    "\n",
    "def worst_case_iterations(array_length):\n",
    "    return math.ceil(math.log2(array_length))\n",
    "\n",
    "# Calculate worst-case iterations for an array of length 20\n",
    "worst_case_iterations_20 = worst_case_iterations(20)\n",
    "\n",
    "print(f\"Worst-case iterations for an array of length 20: {worst_case_iterations_20}\")\n"
   ]
  }
 ],
 "metadata": {
  "language_info": {
   "name": "python"
  },
  "orig_nbformat": 4
 },
 "nbformat": 4,
 "nbformat_minor": 2
}
