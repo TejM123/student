{
 "cells": [
  {
   "cell_type": "markdown",
   "metadata": {},
   "source": [
    "---\n",
    "layout: post\n",
    "title: Tri 1 Reflection\n",
    "description: How this trimester went\n",
    "toc: false\n",
    "comments: true\n",
    "categories: [5.A, C4.1]\n",
    "courses: { compsci: {week: 5} }\n",
    "type: plans\n",
    "---"
   ]
  },
  {
   "cell_type": "markdown",
   "metadata": {},
   "source": [
    "This trimester, I learned the basics of coding. We went over the simplest elements of Python, Javascript, and HTML and put it all to a practical application. We started the tri off by working in duos to hone our individual skills. After collaborating on these, we formed a larger group for the biggest project of the tri. My group was me, Tanuj, Chris, and Tarun. We started the design of our recipe finding site, and I was in charge of the frontend design. We also did a team teach where we taught randomization, and algorithmmic development. As a whole, this trimester was filled with collaboration and solo work. We each did our own parts to contribute to the bigger picture. Some positive accomplishments I have had include designing a good looking webpage, and workign on the searchbar for it. An opportunity for growth I have is being more consistent and organized wioth my commits, rather than doing it all at once. One thing that I would be interested in learning is how to create my own backend, as I did not go that in depth in that. I learned how to collaborate on a coding project, while learning the skills myself. I know that these skills will be useful in the future as I go into college and career."
   ]
  }
 ],
 "metadata": {
  "language_info": {
   "name": "python"
  },
  "orig_nbformat": 4
 },
 "nbformat": 4,
 "nbformat_minor": 2
}
