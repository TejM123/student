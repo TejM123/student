{
 "cells": [
  {
   "cell_type": "code",
   "execution_count": null,
   "metadata": {},
   "outputs": [],
   "source": [
    "---\n",
    "layout: post\n",
    "title: Routing/Computing HW\n",
    "description: HW\n",
    "toc: false\n",
    "comments: false\n",
    "categories: [5.A, C4.1]\n",
    "courses: { compsci: {week: 16} }\n",
    "type: tangibles\n",
    "---"
   ]
  },
  {
   "cell_type": "markdown",
   "metadata": {},
   "source": [
    "Non fault tolerant\n",
    "<img src=\"../images/New-Flowchart.png\">\n",
    "Non fault tolerant because whenever something goes wrong, the entire order gets screwed up and cannot reach the end point\n",
    "\n",
    "\n",
    "\n",
    "Fault tolerant\n",
    "<img src=\"../images/New-Flowchart-1.png\">\n",
    "\n",
    "Parallel and Distributed Computing:\n",
    "First make a simple code that runs sequentially, for example loops ten times before stopping.\n",
    "Then make code that completes the same job quicker by running parallel.\n",
    "# Sequential\n",
    "import time\n",
    "\n",
    "start = time.time()\n",
    "\n",
    "for i in range(10):\n",
    "  print(i)\n",
    "\n",
    "end = time.time()\n",
    "print(\"timer thing:\", end - start)\n",
    "\n",
    "0\n",
    "1\n",
    "2\n",
    "3\n",
    "4\n",
    "5\n",
    "6\n",
    "7\n",
    "8\n",
    "9\n",
    "Sequential time: 5.4836273193359375e-05\n",
    "# Parallelism\n",
    "import time\n",
    "import multiprocessing\n",
    "\n",
    "start = time.time()\n",
    "\n",
    "def print_num(num):\n",
    "  print(num)\n",
    "\n",
    "if __name__ == '__main__':\n",
    "  pool = multiprocessing.Pool(processes=10)\n",
    "  pool.map(print_num, range(10))\n",
    "  pool.close()\n",
    "  pool.join()\n",
    "\n",
    "end = time.time()\n",
    "print(\"time thing again:\", end - start)"
   ]
  }
 ],
 "metadata": {
  "language_info": {
   "name": "python"
  },
  "orig_nbformat": 4
 },
 "nbformat": 4,
 "nbformat_minor": 2
}
