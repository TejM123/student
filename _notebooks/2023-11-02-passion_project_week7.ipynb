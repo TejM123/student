{
 "cells": [
  {
   "cell_type": "markdown",
   "metadata": {},
   "source": [
    "---\n",
    "layout: post\n",
    "title: Passion Project Progress\n",
    "description: Week 7 Passion Project\n",
    "toc: false\n",
    "comments: true\n",
    "categories: [5.A, C4.1]\n",
    "courses: { compsci: {week: 7} }\n",
    "type: plans\n",
    "---"
   ]
  },
  {
   "cell_type": "markdown",
   "metadata": {},
   "source": [
    "Week 7:\n",
    "- Researched how to use HTML\n",
    "- Sketched drawings on paper of aesthetic site with colors\n",
    "- Worked with the group to finalize plans on what API to use\n"
   ]
  }
 ],
 "metadata": {
  "language_info": {
   "name": "python"
  },
  "orig_nbformat": 4
 },
 "nbformat": 4,
 "nbformat_minor": 2
}
