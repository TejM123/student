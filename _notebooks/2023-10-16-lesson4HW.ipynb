{
 "cells": [
  {
   "cell_type": "markdown",
   "metadata": {},
   "source": [
    "---\n",
    "layout: post\n",
    "title: Lesson 4 Homework\n",
    "description: My lesson 4 homework.\n",
    "toc: false\n",
    "comments: true\n",
    "categories: [5.A, C4.1]\n",
    "courses: { compsci: {week: 7} }\n",
    "type: tangibles\n",
    "---"
   ]
  },
  {
   "cell_type": "code",
   "execution_count": null,
   "metadata": {},
   "outputs": [],
   "source": [
    "age = 15\n",
    "citisenship= True\n",
    "if citisenship and age >=18:\n",
    "#works only if both conditions are true\n",
    "print(“You can vote”)\n",
    "else:\n",
    "print(“You cannot vote”)\n",
    "#if either condition isnt met"
   ]
  },
  {
   "cell_type": "code",
   "execution_count": null,
   "metadata": {},
   "outputs": [],
   "source": [
    "#Define a function to calculate the updated salary based on years of service\n",
    "def calculate_updated_salary(current_salary, years_of_service):\n",
    "    if years_of_service > 5:\n",
    "        new_salary = current_salary * 1.05  # Increase the salary by 5% if service is more than 5 years\n",
    "        return new_salary\n",
    "    else:\n",
    "        return current_salary  # Keep the current salary if service is 5 years or less\n",
    "#Input the current salary from the user\n",
    "current_salary = float(input(“Enter your current salary: “))\n",
    "#Input the number of years of service from the user\n",
    "years_of_service = int(input(“Enter the number of years you have serviced the company: “))\n",
    "#Calculate the updated salary\n",
    "new_salary = calculate_updated_salary(current_salary, years_of_service)\n",
    "#Check if the salary has changed and print the appropriate message\n",
    "if new_salary != current_salary:\n",
    "    print(“Your updated salary is: $” + str(new_salary))\n",
    "else:\n",
    "    print(“No change in your salary. Your current salary is: $” + str(current_salary))"
   ]
  },
  {
   "cell_type": "code",
   "execution_count": null,
   "metadata": {},
   "outputs": [],
   "source": [
    "#Input the user’s test score\n",
    "test_score = int(input(“Please enter your test score: “))\n",
    "#Determine the grade based on the score\n",
    "grade = “”\n",
    "if test_score < 25:\n",
    "    grade = “F”\n",
    "elif test_score >= 25 and test_score <= 45:\n",
    "    grade = “E”\n",
    "elif test_score > 45 and test_score <= 50:\n",
    "    grade = “D”\n",
    "elif test_score > 50 and test_score <= 60:\n",
    "    grade = “C”\n",
    "elif test_score > 60 and test_score <= 80:\n",
    "    grade = “B”\n",
    "else:\n",
    "    grade = “A”\n",
    "#Print the grade\n",
    "print(“Your grade is:“, grade)"
   ]
  }
 ],
 "metadata": {
  "language_info": {
   "name": "python"
  },
  "orig_nbformat": 4
 },
 "nbformat": 4,
 "nbformat_minor": 2
}
