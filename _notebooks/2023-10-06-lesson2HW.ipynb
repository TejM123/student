{
 "cells": [
  {
   "cell_type": "markdown",
   "metadata": {},
   "source": [
    "---\n",
    "layout: post\n",
    "title: Lesson 2 Homework\n",
    "description: My lesson 2 homework.\n",
    "toc: false\n",
    "comments: true\n",
    "categories: [5.A, C4.1]\n",
    "courses: { compsci: {week: 6} }\n",
    "type: tangibles\n",
    "---"
   ]
  },
  {
   "cell_type": "code",
   "execution_count": null,
   "metadata": {
    "vscode": {
     "languageId": "javascript"
    }
   },
   "outputs": [],
   "source": [
    "%%js\n",
    "function bblSort(arr) {\n",
    "    for (var i = 0; i < arr.length; i++) {\n",
    "        for (var j = 0; j < (arr.length - i - 1); j++) {\n",
    "            if (arr[j] > arr[j + 1]) {\n",
    "                var temp = arr[j]\n",
    "                arr[j] = arr[j + 1]\n",
    "                arr[j + 1] = temp\n",
    "            }\n",
    "        }\n",
    "    }\n",
    "    console.log(arr);\n",
    "}\n",
    "// This is our unsorted array\n",
    "var arr = [234, 43, 55, 63, 5, 6, 235, 547];\n",
    "bblSort(arr);"
   ]
  }
 ],
 "metadata": {
  "language_info": {
   "name": "python"
  },
  "orig_nbformat": 4
 },
 "nbformat": 4,
 "nbformat_minor": 2
}
