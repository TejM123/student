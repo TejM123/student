{
 "cells": [
  {
   "cell_type": "markdown",
   "metadata": {},
   "source": [
    "---\n",
    "layout: post\n",
    "title: Highest Grossing Movies Review\n",
    "description: About the creation of the list of highes grossing movies.\n",
    "toc: false\n",
    "comments: false\n",
    "categories: [5.A, C4.1]\n",
    "courses: { compsci: {week: 3} }\n",
    "type: plans\n",
    "---"
   ]
  },
  {
   "cell_type": "markdown",
   "metadata": {},
   "source": [
    "Snake game description:\n",
    "We got the top 25 grossing movies in the world, and made a list. It is able to sort alphabetically, by year, or by revenue.\n",
    "\n",
    "Problems:\n",
    "• The list was a bit clunky to make, and some of the resources we found online to make the list did not format properly.\n",
    "\n",
    "Solutions:\n",
    "• We used HTML in order to make a list exactly how we wanted.\n",
    "\n",
    "Skills used/learned:\n",
    "• We learned how to use HTML code to add a movie list to our website that can be sorted in many different ways."
   ]
  }
 ],
 "metadata": {
  "language_info": {
   "name": "python"
  },
  "orig_nbformat": 4
 },
 "nbformat": 4,
 "nbformat_minor": 2
}
