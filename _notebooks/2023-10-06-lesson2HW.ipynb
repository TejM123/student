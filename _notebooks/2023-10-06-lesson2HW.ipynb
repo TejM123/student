{
 "cells": [
  {
   "cell_type": "markdown",
   "metadata": {},
   "source": [
    "---\n",
    "layout: post\n",
    "title: Lesson 2 Homework\n",
    "description: My lesson 2 homework.\n",
    "toc: false\n",
    "comments: true\n",
    "categories: [5.A, C4.1]\n",
    "courses: { compsci: {week: 6} }\n",
    "type: tangibles\n",
    "---"
   ]
  },
  {
   "cell_type": "code",
   "execution_count": 1,
   "metadata": {},
   "outputs": [
    {
     "name": "stdout",
     "output_type": "stream",
     "text": [
      "Palindrome!\n",
      "The average score for the test is: 86.6\n"
     ]
    }
   ],
   "source": [
    "def palindrome_thing(word):\n",
    "    return word == word[::-1]\n",
    "user_input = input(\"Enter a word in lowercase and no spaces: \")\n",
    "\n",
    "if palindrome_thing(user_input):\n",
    "    print(\"Palindrome!\")\n",
    "else:\n",
    "    print(\"Not Palindrome...\")\n",
    "\n",
    "\n",
    "\n",
    "scores = [85, 92, 78, 90, 88]\n",
    "\n",
    "total = sum(scores)\n",
    "average = total / len(scores)\n",
    "\n",
    "print(f\"The average score for the test is: {average}\")\n",
    "##uses length of list algorithm, could be used by a teacher in real world"
   ]
  }
 ],
 "metadata": {
  "kernelspec": {
   "display_name": "Python 3",
   "language": "python",
   "name": "python3"
  },
  "language_info": {
   "codemirror_mode": {
    "name": "ipython",
    "version": 3
   },
   "file_extension": ".py",
   "mimetype": "text/x-python",
   "name": "python",
   "nbconvert_exporter": "python",
   "pygments_lexer": "ipython3",
   "version": "3.11.3"
  },
  "orig_nbformat": 4
 },
 "nbformat": 4,
 "nbformat_minor": 2
}
