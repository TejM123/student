{
 "cells": [
  {
   "cell_type": "markdown",
   "metadata": {},
   "source": [
    "---\n",
    "layout: post\n",
    "title: Quiz Corrections\n",
    "description: Collegeboard Quiz Corrections\n",
    "toc: false\n",
    "comments: true\n",
    "categories: [5.A, C4.1]\n",
    "courses: { compsci: {week: 12} }\n",
    "type: plans\n",
    "---"
   ]
  },
  {
   "cell_type": "markdown",
   "metadata": {},
   "source": [
    "Q24:\n",
    "- the losslessness of byte pair encoding has no relation to the security of transmissions\n",
    "- correct answer: Byte pair encoding is an example of a lossless transformation because an encoded string can be restored to its original version.\n",
    "\n",
    "\n",
    "Q54:\n",
    "- The Fourth procedure calculates a power of n(similar to the Square and Cube procedures), but it does\n",
    "not generalize this functionality to calculate any power of n.\n",
    "- correct answer: Procedure Power, (n,m), which returns the value N raised to the m power"
   ]
  }
 ],
 "metadata": {
  "language_info": {
   "name": "python"
  },
  "orig_nbformat": 4
 },
 "nbformat": 4,
 "nbformat_minor": 2
}
