{
 "cells": [
  {
   "cell_type": "markdown",
   "metadata": {},
   "source": [
    "---\n",
    "layout: post\n",
    "title: Calculator Review\n",
    "description: About the creation of the calculator.\n",
    "toc: false\n",
    "comments: false\n",
    "categories: [5.A, C4.1]\n",
    "courses: { compsci: {week: 2} }\n",
    "type: plans\n",
    "---"
   ]
  },
  {
   "cell_type": "markdown",
   "metadata": {},
   "source": [
    "Calculator description:\n",
    "I wanted to add a calculator to my website so I decided to code one using HTML, CSS, and JavaScript. The calculator design was inspired by the apple calculator on iPhone’s. I wanted to have a current operation display and a previous one right above it in smaller font that displayed the last function.\n",
    "\n",
    "Problems:\n",
    "• There was a visual issue regarding the color shift when hovering over a button\n",
    "\n",
    "• Some of the numbers we clicked would not pop up on the calculator display\n",
    "\n",
    "Solutions:\n",
    "• We reworked the hovering function until it worked\n",
    "\n",
    "• We had to try inputting the numbers a different way than we previously did in order to make them all pop up properly.\n",
    "\n",
    "Skills used/learned:\n",
    "• We learned how to use HTML, CSS, and JavaScript to create a simple calculator\n",
    "\n",
    "• I used the eval function in JavaScript and HTML tags"
   ]
  }
 ],
 "metadata": {
  "language_info": {
   "name": "python"
  },
  "orig_nbformat": 4
 },
 "nbformat": 4,
 "nbformat_minor": 2
}
