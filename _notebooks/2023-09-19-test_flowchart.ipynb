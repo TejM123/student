{
 "cells": [
  {
   "cell_type": "markdown",
   "metadata": {},
   "source": [
    "---\n",
    "layout: post\n",
    "title: Flowchart\n",
    "description: Flowchart of how our calculator works behind the scenes.\n",
    "toc: false\n",
    "comments: false\n",
    "categories: [5.A, C4.1]\n",
    "courses: { compsci: {week: 5} }\n",
    "type: plans\n",
    "---"
   ]
  },
  {
   "cell_type": "markdown",
   "metadata": {},
   "source": [
    "Start\n",
    "|\n",
    "|--- Initialize outputElement\n",
    "|\n",
    "|--- Initialize currentInput\n",
    "|\n",
    "|--- User interacts with buttons\n",
    "|    |\n",
    "|    |--- Numeric Button Clicked\n",
    "|    |    |\n",
    "|    |    |--- Append value to currentInput\n",
    "|    |    |--- Update outputElement with currentInput\n",
    "|    |\n",
    "|    |--- Operator Button Clicked\n",
    "|    |    |\n",
    "|    |    |--- Append operator to currentInput\n",
    "|    |    |--- Update outputElement with currentInput\n",
    "|    |\n",
    "|    |--- Equals Button (=) Clicked\n",
    "|    |    |\n",
    "|    |    |--- Try to evaluate currentInput\n",
    "|    |    |    |\n",
    "|    |    |    |--- If successful:\n",
    "|    |    |    |    |\n",
    "|    |    |    |    |--- Update currentInput with result\n",
    "|    |    |    |    |--- Update outputElement with result\n",
    "|    |    |    |\n",
    "|    |    |    |--- If an error occurs:\n",
    "|    |    |    |    |\n",
    "|    |    |    |    |--- Display \"Error\" in outputElement\n",
    "|    |\n",
    "|    |--- Clear Button (C) Clicked\n",
    "|    |    |\n",
    "|    |    |--- Reset currentInput to an empty string\n",
    "|    |    |--- Update outputElement with \"0\"\n",
    "|\n",
    "End\n"
   ]
  }
 ],
 "metadata": {
  "language_info": {
   "name": "python"
  },
  "orig_nbformat": 4
 },
 "nbformat": 4,
 "nbformat_minor": 2
}
