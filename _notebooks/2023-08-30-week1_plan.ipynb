{
 "cells": [
  {
   "cell_type": "markdown",
   "metadata": {},
   "source": [
    "---\n",
    "layout: post\n",
    "title: Week 1 Plan\n",
    "description: My plan for the week.\n",
    "toc: false\n",
    "comments: false\n",
    "categories: [5.A, C4.1]\n",
    "courses: { compsci: {week: 1} }\n",
    "type: plans\n",
    "---"
   ]
  },
  {
   "cell_type": "markdown",
   "metadata": {},
   "source": [
    "&nbsp;  \n",
    "&nbsp;  \n",
    "&nbsp;  \n",
    "&nbsp;  \n",
    "&nbsp;  \n",
    "&nbsp;  \n",
    "&nbsp;  \n",
    "&nbsp;  \n",
    "&nbsp;  \n",
    "&nbsp;  \n",
    "&nbsp;  \n",
    "\n",
    "## Plan for Monday and Tuesday\n",
    "I want to get my calculator fully working and in the site.\n",
    "\n",
    "## Plan for Wednesday and Thursday and Friday\n",
    "Get my website on github from my localhost. I also want to learn about Jupyter notebooks.\n"
   ]
  }
 ],
 "metadata": {
  "language_info": {
   "name": "python"
  },
  "orig_nbformat": 4
 },
 "nbformat": 4,
 "nbformat_minor": 2
}
