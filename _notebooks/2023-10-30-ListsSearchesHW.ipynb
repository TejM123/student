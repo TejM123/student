{
 "cells": [
  {
   "cell_type": "markdown",
   "metadata": {},
   "source": [
    "---\n",
    "layout: post\n",
    "title: Lists and Searches HW\n",
    "description: \n",
    "toc: false\n",
    "comments: true\n",
    "categories: [5.A, C4.1]\n",
    "courses: { compsci: {week: 5} }\n",
    "type: tangibles\n",
    "---"
   ]
  },
  {
   "cell_type": "code",
   "execution_count": null,
   "metadata": {},
   "outputs": [],
   "source": [
    "# Define a function named procedural_abstraction that takes one parameter, num.\n",
    "def procedural_abstraction(num):\n",
    "    # Perform a specific task: Square the input number.\n",
    "    result = num * num\n",
    "    # Return the result.\n",
    "    return result\n",
    "\n",
    "# Example usage:\n",
    "input_number = 6\n",
    "output = procedural_abstraction(input_number)\n",
    "print(f\"The square of {input_number} is {output}\")"
   ]
  },
  {
   "cell_type": "code",
   "execution_count": null,
   "metadata": {},
   "outputs": [],
   "source": [
    "# Define a function named summing_machine that takes two parameters, first_number and second_number.\n",
    "def summing_machine(first_number, second_number):\n",
    "    # Calculate the sum of the two input numbers.\n",
    "    result = first_number + second_number\n",
    "    # Return the result.\n",
    "    return result\n",
    "\n",
    "# Calculate the sum of 7 and 5 using the summing_machine function.\n",
    "sum_result = summing_machine(7, 5)\n",
    "\n",
    "# Print the result.\n",
    "print(f\"The sum of 7 and 5 is {sum_result}\")"
   ]
  }
 ],
 "metadata": {
  "language_info": {
   "name": "python"
  },
  "orig_nbformat": 4
 },
 "nbformat": 4,
 "nbformat_minor": 2
}
