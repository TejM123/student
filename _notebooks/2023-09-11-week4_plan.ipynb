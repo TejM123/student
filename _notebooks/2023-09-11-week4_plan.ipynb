{
 "cells": [
  {
   "cell_type": "markdown",
   "metadata": {},
   "source": [
    "---\n",
    "layout: post\n",
    "title: Week 4 Plan\n",
    "description: Our plan for this week\n",
    "toc: false\n",
    "comments: false\n",
    "categories: [5.A, C4.1]\n",
    "courses: { compsci: {week: 4} }\n",
    "type: plans\n",
    "---\n",
    " "
   ]
  },
  {
   "cell_type": "markdown",
   "metadata": {},
   "source": [
    "<input type=\"checkbox\"> Create a weather database using an API \n",
    "\n",
    "<input type=\"checkbox\" checked> Create a player guessing game with NBA players \n",
    "\n",
    "<input type=\"checkbox\"> Play around with the snake game settings and let the player be able to change the background color "
   ]
  }
 ],
 "metadata": {
  "language_info": {
   "name": "python"
  },
  "orig_nbformat": 4
 },
 "nbformat": 4,
 "nbformat_minor": 2
}
