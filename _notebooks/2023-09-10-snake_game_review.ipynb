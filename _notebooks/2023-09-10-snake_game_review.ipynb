{
 "cells": [
  {
   "cell_type": "markdown",
   "metadata": {},
   "source": [
    "---\n",
    "layout: post\n",
    "title: Calculator Review\n",
    "description: About the creation of the calculator.\n",
    "toc: false\n",
    "comments: false\n",
    "categories: [5.A, C4.1]\n",
    "courses: { compsci: {week: 2} }\n",
    "type: plans\n",
    "---"
   ]
  },
  {
   "cell_type": "markdown",
   "metadata": {},
   "source": [
    "Snake game description:\n",
    "We used the source code from the GitHub repository to be able to make the snake game appear on our sites.\n",
    "\n",
    "Problems:\n",
    "• The game would interfere with other elements on the screen, and the window would scroll up and down.\n",
    "\n",
    "Solutions:\n",
    "• We used spacers for the time being, then we commented out a part of the post template.\n",
    "\n",
    "Skills used/learned:\n",
    "• We learned how to use HTML code to add a snake game into the website"
   ]
  }
 ],
 "metadata": {
  "language_info": {
   "name": "python"
  },
  "orig_nbformat": 4
 },
 "nbformat": 4,
 "nbformat_minor": 2
}
