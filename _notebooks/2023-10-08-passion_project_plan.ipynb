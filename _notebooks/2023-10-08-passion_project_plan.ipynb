{
 "cells": [
  {
   "cell_type": "markdown",
   "metadata": {},
   "source": [
    "# Flappy Bird Project Plan\n",
    "- We want to create our version of the Flappy Bird using Comp Scie Education, loops, objects, and maybe adding our own characters.\n",
    "# Background:\n",
    "## Tejas M (Scrum Master)\n",
    "- Introduce basic concepts\n",
    "- Make game simple and easily understood\n",
    "- Integrate aspects of real flappy bird into game\n",
    "## Tanuj N (Frontend Dev.)\n",
    "- Background that never ends\n",
    "- sourcing image files\n",
    "- Score display\n",
    "- Moving Bird\n",
    "## Tarun T + Chris P (Backend Dev.)\n",
    "- Obstacle Code\n",
    "- Data Storing\n",
    "# Phase Plan:\n",
    "## Intro Menu screen:\n",
    "- Menu with developer resources\n",
    "- This leads to the difficulty selector\n",
    "- Background music\n",
    "## Play screen:\n",
    "- Actual gameplay\n",
    "- Find pipe jpeg’s\n",
    "- Find loop for background and keep smooth\n",
    "- Cloud effects?\n",
    "- Sound effects\n",
    "## End screen:\n",
    "- Game over screen\n",
    "- Points scored\n",
    "- Time lasted\n",
    "- Record keeping\n",
    "- New game button"
   ]
  },
  {
   "cell_type": "markdown",
   "metadata": {},
   "source": []
  }
 ],
 "metadata": {
  "language_info": {
   "name": "python"
  },
  "orig_nbformat": 4
 },
 "nbformat": 4,
 "nbformat_minor": 2
}
