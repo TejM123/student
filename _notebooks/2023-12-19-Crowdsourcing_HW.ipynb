{
 "cells": [
  {
   "cell_type": "code",
   "execution_count": null,
   "metadata": {},
   "outputs": [],
   "source": [
    "---\n",
    "layout: post\n",
    "title: Crowdsourcing HW\n",
    "description: HW\n",
    "toc: false\n",
    "comments: false\n",
    "categories: [5.A, C4.1]\n",
    "courses: { compsci: {week: 16} }\n",
    "type: tangibles\n",
    "---"
   ]
  },
  {
   "cell_type": "markdown",
   "metadata": {},
   "source": [
    "1. Crowdsourcing is where many people collaborate on one project and contribute individually. An example of this is Wikipedia, as there are many collaborators who share unfo on a topic.\n",
    "\n",
    "2. Some positives include more coverage of information and quicker finished pages. Some drawbacks include how truthful the info is, and bias by each contributor. Some ways to fix it is to have software or people go through each contribution to make sure its all good.\n",
    "\n",
    "3. A successful crowdourcing project is Wikipedia, as they have many collaborators, who have made an extensivse site to recollect many aspects of the world.\n",
    "\n",
    "4. A crowdsourcing project could be making a game webiste, and having people code their own games to put on the site all together. There would be someone to monitor the status and quality of all submitted games, and would have the potential to appeal to fans of all genres of games."
   ]
  }
 ],
 "metadata": {
  "language_info": {
   "name": "python"
  },
  "orig_nbformat": 4
 },
 "nbformat": 4,
 "nbformat_minor": 2
}
