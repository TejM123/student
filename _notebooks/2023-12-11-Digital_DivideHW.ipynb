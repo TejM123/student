{
 "cells": [
  {
   "cell_type": "markdown",
   "metadata": {},
   "source": [
    "---\n",
    "layout: post\n",
    "title: Digital Divide HW\n",
    "description: HW\n",
    "toc: false\n",
    "comments: false\n",
    "categories: [5.A, C4.1]\n",
    "courses: { compsci: {week: 16} }\n",
    "type: tangibles\n",
    "---"
   ]
  },
  {
   "cell_type": "markdown",
   "metadata": {},
   "source": [
    "Homework Hack 1\n",
    "How has the digital divide been bettered/worsened by recent national or global events? How may the digital divide get worse in the future without intervention?\n",
    "\n",
    "Answer: It has been getting better due to organizations trying to bridge the gap between those wo do not have resources to use technology, and those who do. It could get worse if those well of continue to progress without keeping those less fortunate in mind.\n",
    "\n",
    "Homework Hack 2\n",
    "Give some examples of how individuals, organizations, and the government can all help lessen the digital divide.\n",
    "\n",
    "Answer: We can help lessen the digital divide by have digital literacy classes, donating to organizations that brings technology to less well-off areas, and being an advocate for equity in technology."
   ]
  }
 ],
 "metadata": {
  "language_info": {
   "name": "python"
  },
  "orig_nbformat": 4
 },
 "nbformat": 4,
 "nbformat_minor": 2
}
