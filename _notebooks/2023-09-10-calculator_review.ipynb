{
 "cells": [
  {
   "cell_type": "markdown",
   "metadata": {},
   "source": [
    "---\n",
    "layout: post\n",
    "title: Review Ticket\n",
    "description: Some of our previous problems and their solutions.\n",
    "toc: false\n",
    "comments: false\n",
    "categories: [5.A, C4.1]\n",
    "courses: { compsci: {week: 3} }\n",
    "type: tangibles\n",
    "---"
   ]
  },
  {
   "cell_type": "markdown",
   "metadata": {},
   "source": [
    "## Calculator\n",
    "\n",
    "Calculator description:\n",
    "I wanted to add a calculator to my website so I decided to code one using HTML, CSS, and JavaScript. The calculator design was inspired by the apple calculator on iPhone’s. I wanted to have a current operation display and a previous one right above it in smaller font that displayed the last function.\n",
    "\n",
    "Problems:\n",
    "• There was a visual issue regarding the color shift when hovering over a button\n",
    "\n",
    "• Some of the numbers we clicked would not pop up on the calculator display\n",
    "\n",
    "Solutions:\n",
    "• We reworked the hovering function until it worked\n",
    "\n",
    "• We had to try inputting the numbers a different way than we previously did in order to make them all pop up properly.\n",
    "\n",
    "Skills used/learned:\n",
    "• We learned how to use HTML, CSS, and JavaScript to create a simple calculator\n",
    "\n",
    "• I used the eval function in JavaScript and HTML tags\n",
    "\n",
    "\n",
    "## Snake Game\n",
    "Snake game description:\n",
    "We used the source code from the GitHub repository to be able to make the snake game appear on our sites.\n",
    "\n",
    "Problems:\n",
    "• The game would interfere with other elements on the screen, and the window would scroll up and down.\n",
    "\n",
    "Solutions:\n",
    "• We used spacers for the time being, then we commented out a part of the post template.\n",
    "\n",
    "Skills used/learned:\n",
    "• We learned how to use HTML code to add a snake game into the website\n",
    "\n",
    "## Highest Grossing Movies Review\n",
    "\n",
    "Highest Grossing Movies description:\n",
    "We got the top 25 grossing movies in the world, and made a list. It is able to sort alphabetically, by year, or by revenue.\n",
    "\n",
    "Problems:\n",
    "• The list was a bit clunky to make, and some of the resources we found online to make the list did not format properly.\n",
    "\n",
    "Solutions:\n",
    "• We used HTML in order to make a list exactly how we wanted.\n",
    "\n",
    "Skills used/learned:\n",
    "• We learned how to use HTML code to add a movie list to our website that can be sorted in many different ways."
   ]
  }
 ],
 "metadata": {
  "language_info": {
   "name": "python"
  },
  "orig_nbformat": 4
 },
 "nbformat": 4,
 "nbformat_minor": 2
}
