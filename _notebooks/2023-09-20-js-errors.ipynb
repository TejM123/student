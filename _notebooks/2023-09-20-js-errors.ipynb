{
 "cells": [
  {
   "cell_type": "code",
   "execution_count": 7,
   "metadata": {
    "vscode": {
     "languageId": "javascript"
    }
   },
   "outputs": [
    {
     "data": {
      "application/javascript": "var alphabet = \"abcdefghijklmnopqrstuvwxyz\";\nvar alphabetList = alphabet.split(\"\");\nconsole.log(alphabetList)\n",
      "text/plain": [
       "<IPython.core.display.Javascript object>"
      ]
     },
     "metadata": {},
     "output_type": "display_data"
    }
   ],
   "source": [
    "%%js\n",
    "var alphabet = \"abcdefghijklmnopqrstuvwxyz\";\n",
    "var alphabetList = alphabet.split(\"\");\n",
    "console.log(alphabetList)"
   ]
  },
  {
   "cell_type": "markdown",
   "metadata": {},
   "source": [
    "## What I Changed\n",
    "I deleted the for loop and made it so that alphabetList split every character in alphabet and added it to a list. Then I printed the list."
   ]
  },
  {
   "cell_type": "code",
   "execution_count": 1,
   "metadata": {
    "vscode": {
     "languageId": "javascript"
    }
   },
   "outputs": [
    {
     "data": {
      "application/javascript": "var alphabet = \"abcdefghijklmnopqrstuvwxyz\";\nvar alphabetList = alphabet.split(\"\");\nconsole.log(alphabetList);\nlet letterNumber = 5\nconsole.log(alphabetList[letterNumber-1])\n",
      "text/plain": [
       "<IPython.core.display.Javascript object>"
      ]
     },
     "metadata": {},
     "output_type": "display_data"
    }
   ],
   "source": [
    "%%js\n",
    "var alphabet = \"abcdefghijklmnopqrstuvwxyz\";\n",
    "var alphabetList = alphabet.split(\"\");\n",
    "console.log(alphabetList);\n",
    "let letterNumber = 5\n",
    "console.log(alphabetList[letterNumber-1])"
   ]
  },
  {
   "cell_type": "markdown",
   "metadata": {},
   "source": [
    "### What I Changed\n",
    "I deleted the for statement and made it so that it would take the letter number and input it into the alphabet list and print the letter. I subtracted one from the input because the first element in the list is 0 so you need to subtract one."
   ]
  },
  {
   "cell_type": "code",
   "execution_count": null,
   "metadata": {
    "vscode": {
     "languageId": "javascript"
    }
   },
   "outputs": [],
   "source": [
    "%%js\n",
    "let odd = [];\n",
    "let i = 1;\n",
    "while (i < 10) {\n",
    "  odd.push(i);\n",
    "  i += 2;\n",
    "}\n",
    "console.log(odd);"
   ]
  },
  {
   "cell_type": "markdown",
   "metadata": {},
   "source": [
    "### What I Changed\n",
    "I changed the starting number to one so when it prints every two it only prints odds and not evens. Then I just changed the variable name to odd to make it less confusing."
   ]
  }
 ],
 "metadata": {
  "kernelspec": {
   "display_name": "Python 3",
   "language": "python",
   "name": "python3"
  },
  "language_info": {
   "codemirror_mode": {
    "name": "ipython",
    "version": 3
   },
   "file_extension": ".py",
   "mimetype": "text/x-python",
   "name": "python",
   "nbconvert_exporter": "python",
   "pygments_lexer": "ipython3",
   "version": "3.11.3"
  },
  "orig_nbformat": 4
 },
 "nbformat": 4,
 "nbformat_minor": 2
}
