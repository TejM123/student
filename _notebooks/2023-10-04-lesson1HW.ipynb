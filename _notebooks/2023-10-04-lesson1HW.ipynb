{
 "cells": [
  {
   "cell_type": "markdown",
   "metadata": {},
   "source": [
    "---\n",
    "layout: post\n",
    "title: Lesson 1 Homework\n",
    "description: My lesson 1 homework.\n",
    "toc: false\n",
    "comments: true\n",
    "categories: [5.A, C4.1]\n",
    "courses: { compsci: {week: 5} }\n",
    "type: tangibles\n",
    "---"
   ]
  },
  {
   "cell_type": "code",
   "execution_count": null,
   "metadata": {
    "vscode": {
     "languageId": "javascript"
    }
   },
   "outputs": [],
   "source": [
    "%%js\n",
    "var person = {\n",
    "    name: \"Tejas\",\n",
    "    age: 15,\n",
    "    height: 67,\n",
    "    weight: 183\n",
    "}\n",
    "console.log(\"My name is \" + person.name);\n",
    "console.log(\"I am \" + person.age + \" years old.\");\n",
    "console.log(\"I am \" + person.height + \" inches tall\");\n",
    "console.log(\"I am \" + person.weight + \" pounds\");"
   ]
  }
 ],
 "metadata": {
  "language_info": {
   "name": "python"
  },
  "orig_nbformat": 4
 },
 "nbformat": 4,
 "nbformat_minor": 2
}
