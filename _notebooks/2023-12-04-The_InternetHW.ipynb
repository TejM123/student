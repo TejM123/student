{
 "cells": [
  {
   "cell_type": "markdown",
   "metadata": {},
   "source": [
    "---\n",
    "layout: post\n",
    "title: The Internet HW\n",
    "description: HW\n",
    "toc: false\n",
    "comments: false\n",
    "categories: [5.A, C4.1]\n",
    "courses: { compsci: {week: 15} }\n",
    "type: tangibles\n",
    "---"
   ]
  },
  {
   "cell_type": "markdown",
   "metadata": {},
   "source": [
    "## Bandwidth:\n",
    "Concept of Bandwidth:\n",
    "Bandwidth in computer networks refers to the maximum data transfer rate, measured in bits per second (bps). It signifies the capacity of a network to transmit data within a given time frame. High bandwidth allows for faster data transfer, while low bandwidth results in slower rates.\n",
    "\n",
    "Influence on Speed and Efficiency:\n",
    "High bandwidth is advantageous for quick data transfer, benefiting activities like streaming and large file downloads. In contrast, low bandwidth leads to slower performance, impacting activities such as video calls and web browsing, especially when multiple devices compete for limited bandwidth.\n",
    "\n",
    "Impact on Internet-Connected Devices:\n",
    "In scenarios with high bandwidth, multiple devices can access the internet simultaneously without significant performance degradation. Conversely, low bandwidth can cause poor performance, leading to delays and reduced user experience in data-intensive tasks.\n",
    "\n",
    "## Computer Network:\n",
    "Key Components:\n",
    "Computer networks consist of nodes (devices), links (connections), networking devices (routers, switches), protocols (communication rules), and topology (layout). Scalability, security, and reliability are vital for effective network design.\n",
    "\n",
    "Significance of Scalability, Security, and Reliability:\n",
    "Scalability ensures networks can grow to accommodate increasing demands. Security measures protect against unauthorized access, and reliability, achieved through redundancy, minimizes downtime.\n",
    "\n",
    "Real-world Examples:\n",
    "Local Area Networks (LANs) are employed for internal communication within a confined area, like an office. Wide Area Networks (WANs) connect multiple LANs across larger geographic regions, exemplified by the global internet, serving diverse purposes.\n",
    "\n",
    "## Packet Switching:\n",
    "Role in Modern Communication Systems:\n",
    "Packet switching involves breaking data into packets for transmission. Compared to circuit switching, it offers efficiency, adaptability, and resilience to network failures.\n",
    "\n",
    "Advantages of Packet Switching:\n",
    "Packet switching optimizes network resources, supports variable data rates, and is resilient to failures. It is fundamental to the internet's functionality, allowing for efficient data transmission.\n",
    "\n",
    "Journey of a Data Packet:\n",
    "In packet switching, data is packetized, routed through the network independently, transmitted, and reassembled at the destination. This method enables packets to take different routes, enhancing efficiency and reliability in data transmission compared to more rigid alternatives like circuit switching."
   ]
  }
 ],
 "metadata": {
  "language_info": {
   "name": "python"
  },
  "orig_nbformat": 4
 },
 "nbformat": 4,
 "nbformat_minor": 2
}
