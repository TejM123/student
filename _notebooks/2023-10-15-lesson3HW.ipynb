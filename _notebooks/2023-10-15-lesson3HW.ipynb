{
 "cells": [
  {
   "cell_type": "markdown",
   "metadata": {},
   "source": [
    "---\n",
    "layout: post\n",
    "title: Lesson 3 Homework\n",
    "description: My lesson 3 homework.\n",
    "toc: false\n",
    "comments: true\n",
    "categories: [5.A, C4.1]\n",
    "courses: { compsci: {week: 7} }\n",
    "type: tangibles\n",
    "---"
   ]
  },
  {
   "cell_type": "code",
   "execution_count": 1,
   "metadata": {
    "vscode": {
     "languageId": "javascript"
    }
   },
   "outputs": [
    {
     "name": "stdout",
     "output_type": "stream",
     "text": [
      "A new day begins.\n",
      "Now: Wake up\n",
      "Now: Get dressed\n",
      "Now: Have breakfast\n",
      "Now: Go to work\n",
      "Now: Lunch break\n",
      "Now: Continue working\n",
      "Now: Return home\n",
      "Now: Have dinner\n",
      "Now: Relax\n",
      "Now: Go to bed\n",
      "End of the day.\n"
     ]
    }
   ],
   "source": [
    "def simulate_daily_life(activity_index):\n",
    "    daily_activities = [\n",
    "        \"Wake up\",\n",
    "        \"Get dressed\",\n",
    "        \"Have breakfast\",\n",
    "        \"Go to school\",\n",
    "        \"Lunch break\",\n",
    "        \"Continue working\",\n",
    "        \"Return home\",\n",
    "        \"Have dinner\",\n",
    "        \"Relax\",\n",
    "        \"Go to bed\",\n",
    "    ]\n",
    "\n",
    "    if activity_index < len(daily_activities):\n",
    "        print(f\"Now: {daily_activities[activity_index]}\")\n",
    "        simulate_daily_life(activity_index + 1)\n",
    "    else:\n",
    "        print(\"End of the day.\")\n",
    "\n",
    "print(\"A new day begins.\")\n",
    "simulate_daily_life(0)\n"
   ]
  }
 ],
 "metadata": {
  "kernelspec": {
   "display_name": "Python 3",
   "language": "python",
   "name": "python3"
  },
  "language_info": {
   "codemirror_mode": {
    "name": "ipython",
    "version": 3
   },
   "file_extension": ".py",
   "mimetype": "text/x-python",
   "name": "python",
   "nbconvert_exporter": "python",
   "pygments_lexer": "ipython3",
   "version": "3.11.3"
  },
  "orig_nbformat": 4
 },
 "nbformat": 4,
 "nbformat_minor": 2
}
